{
 "cells": [
  {
   "cell_type": "markdown",
   "id": "49b68a6a-8d82-4210-8c0a-0a6eaa49f62e",
   "metadata": {},
   "source": [
    "# Pytorch exercises"
   ]
  },
  {
   "cell_type": "code",
   "execution_count": 2,
   "id": "6b9baea0-3aca-4184-88e1-9dc3fd12ec2f",
   "metadata": {},
   "outputs": [],
   "source": [
    "import torch"
   ]
  },
  {
   "cell_type": "markdown",
   "id": "1094e566-47c6-4ab1-9035-a023efd5fb43",
   "metadata": {},
   "source": [
    "Exercise 1: Write a PyTorch code to create a tensor of size (3, 3) filled with random values between 0 and 1."
   ]
  },
  {
   "cell_type": "code",
   "execution_count": 3,
   "id": "d8472b48-bbc1-4e69-a33c-93a317b83b94",
   "metadata": {},
   "outputs": [
    {
     "name": "stdout",
     "output_type": "stream",
     "text": [
      "tensor([[0.9215, 0.0346, 0.7462],\n",
      "        [0.7543, 0.2734, 0.1238],\n",
      "        [0.9207, 0.5651, 0.2303]])\n"
     ]
    }
   ],
   "source": [
    "tensor_random = torch.rand(3, 3)\n",
    "print(tensor_random)"
   ]
  },
  {
   "cell_type": "markdown",
   "id": "9098d6da-dab2-4295-8800-1144dc621aa1",
   "metadata": {},
   "source": [
    "Exercise 2:\n",
    "Create a tensor of size (5, 2) filled with zeros."
   ]
  },
  {
   "cell_type": "code",
   "execution_count": 4,
   "id": "475c8dcd-e484-4713-9876-1a27f200b3ea",
   "metadata": {},
   "outputs": [
    {
     "name": "stdout",
     "output_type": "stream",
     "text": [
      "tensor([[0., 0.],\n",
      "        [0., 0.],\n",
      "        [0., 0.],\n",
      "        [0., 0.],\n",
      "        [0., 0.]])\n"
     ]
    }
   ],
   "source": [
    "tensor_zeros = torch.zeros(5,2)\n",
    "print(tensor_zeros)"
   ]
  },
  {
   "cell_type": "markdown",
   "id": "20f77911-49bc-4086-9dcc-6e59543a2216",
   "metadata": {},
   "source": [
    "Exercise 3:\n",
    "Implement a PyTorch code to multiply two tensors of size (2, 3) and (3, 4) respectively."
   ]
  },
  {
   "cell_type": "code",
   "execution_count": 6,
   "id": "6073b89f-6cf8-4ae5-bb9c-d0eb6b0bdc4c",
   "metadata": {},
   "outputs": [
    {
     "name": "stdout",
     "output_type": "stream",
     "text": [
      "tensor([[0.1489, 0.3586, 0.1822, 0.3754],\n",
      "        [0.4136, 1.2187, 0.7903, 1.0535]])\n"
     ]
    }
   ],
   "source": [
    "tensor_1 = torch.rand(2, 3)\n",
    "tensor_2 = torch.rand(3, 4)\n",
    "tensor_3 = torch.matmul(tensor_1, tensor_2)\n",
    "print(tensor_3)"
   ]
  },
  {
   "cell_type": "markdown",
   "id": "b7e71a2d-8c07-49d6-bde9-f40628bff3f5",
   "metadata": {},
   "source": [
    "Exercise 4:\n",
    "Create a PyTorch tensor with values ranging from 5 to 10."
   ]
  },
  {
   "cell_type": "code",
   "execution_count": 7,
   "id": "314b6b66-e088-4fc3-9ea1-12eafcef1b74",
   "metadata": {},
   "outputs": [
    {
     "name": "stdout",
     "output_type": "stream",
     "text": [
      "tensor([ 5,  6,  7,  8,  9, 10])\n"
     ]
    }
   ],
   "source": [
    "tensor_values = torch.arange(5, 11)\n",
    "print(tensor_values)"
   ]
  },
  {
   "cell_type": "markdown",
   "id": "f97b337b-6277-42d2-b3e3-fd8a0afe9d34",
   "metadata": {},
   "source": [
    "Exercise 5:\n",
    "Write a PyTorch code to compute the mean of a tensor."
   ]
  },
  {
   "cell_type": "code",
   "execution_count": 8,
   "id": "eba2ccb6-da0c-460b-994e-54a40328fff4",
   "metadata": {},
   "outputs": [
    {
     "name": "stdout",
     "output_type": "stream",
     "text": [
      "tensor(2.)\n"
     ]
    }
   ],
   "source": [
    "tensor_1 = torch.tensor([1.0, 2.0, 3.0])\n",
    "tensor_mean = torch.mean(tensor_1)\n",
    "print(tensor_mean)"
   ]
  },
  {
   "cell_type": "markdown",
   "id": "6d9025a2-86df-469e-905d-5ae2189d2882",
   "metadata": {},
   "source": [
    "Exercise 6:\n",
    "Implement a PyTorch code to compute the element-wise product of two tensors of the same size."
   ]
  },
  {
   "cell_type": "code",
   "execution_count": 9,
   "id": "b0fafd94-249e-46b8-af67-6dcf5ef281a5",
   "metadata": {},
   "outputs": [
    {
     "name": "stdout",
     "output_type": "stream",
     "text": [
      "tensor([ 5, 12, 21, 32])\n"
     ]
    }
   ],
   "source": [
    "tensor_a = torch.tensor([1, 2, 3, 4])\n",
    "tensor_b = torch.tensor([5, 6, 7, 8])\n",
    "element_wise_product = torch.mul(tensor_a, tensor_b)\n",
    "print(element_wise_product)"
   ]
  },
  {
   "cell_type": "markdown",
   "id": "6f5d4a20-f9fb-440a-92fa-14c7232954cf",
   "metadata": {},
   "source": [
    "Exercise 7:\n",
    "Create a PyTorch tensor with values sampled from a normal distribution with mean 0 and standard deviation 1."
   ]
  },
  {
   "cell_type": "code",
   "execution_count": 10,
   "id": "9e22db49-8065-4645-a290-f7c4e18bbbc0",
   "metadata": {},
   "outputs": [
    {
     "name": "stdout",
     "output_type": "stream",
     "text": [
      "tensor([[ 1.7380, -1.1884, -0.3869],\n",
      "        [-0.8709, -1.2130, -1.2266],\n",
      "        [ 0.4728, -0.3749, -0.7541]])\n"
     ]
    }
   ],
   "source": [
    "tensor_normal = torch.randn(3, 3)  \n",
    "print(tensor_normal)"
   ]
  },
  {
   "cell_type": "markdown",
   "id": "eaaf5142-be8b-41fe-9f5f-93d76a865c95",
   "metadata": {},
   "source": [
    "Exercise 8:\n",
    "Write a PyTorch code to find the maximum value in a tensor."
   ]
  },
  {
   "cell_type": "code",
   "execution_count": 11,
   "id": "c01adaec-3bab-4faa-b8d0-9718c41e1655",
   "metadata": {},
   "outputs": [
    {
     "name": "stdout",
     "output_type": "stream",
     "text": [
      "tensor(2.5322)\n"
     ]
    }
   ],
   "source": [
    "tensor_normal = torch.randn(3, 3)  \n",
    "max_value = torch.max(tensor_normal)\n",
    "print(max_value)"
   ]
  },
  {
   "cell_type": "markdown",
   "id": "a0fafddc-7d69-40f0-ac39-ac6f8efd463f",
   "metadata": {},
   "source": [
    "Exercise 9:\n",
    "Implement a PyTorch code to compute the cross entropy loss between predicted values and target values."
   ]
  },
  {
   "cell_type": "code",
   "execution_count": 23,
   "id": "cc21e0fb-e52a-4560-bb79-683e6c99bf12",
   "metadata": {},
   "outputs": [
    {
     "name": "stdout",
     "output_type": "stream",
     "text": [
      "tensor(1.3144, grad_fn=<NllLossBackward0>)\n"
     ]
    }
   ],
   "source": [
    "import torch.nn as nn\n",
    "predicted = torch.tensor([[0.25, 0.25, 0.25, 0.25], [0.1, 0.2, 0.3, 0.4]], requires_grad=True)\n",
    "target = torch.tensor([0, 3])\n",
    "\n",
    "cross_entropy_loss = nn.CrossEntropyLoss()\n",
    "\n",
    "loss = cross_entropy_loss(predicted, target)\n",
    "print(loss)"
   ]
  },
  {
   "cell_type": "markdown",
   "id": "f884a16c-5af5-4d98-9567-19832a24df1a",
   "metadata": {},
   "source": [
    "Exercise 10: Create a PyTorch tensor and then convert it to a NumPy array."
   ]
  },
  {
   "cell_type": "code",
   "execution_count": 24,
   "id": "06939862-3f9b-4225-8d29-0a3c448471d1",
   "metadata": {},
   "outputs": [
    {
     "name": "stdout",
     "output_type": "stream",
     "text": [
      "[1 2 3 4 5]\n"
     ]
    }
   ],
   "source": [
    "tensor_example = torch.tensor([1, 2, 3, 4, 5])\n",
    "\n",
    "numpy_array = tensor_example.numpy()\n",
    "print(numpy_array)"
   ]
  },
  {
   "cell_type": "markdown",
   "id": "b184819f-0ecb-4a45-a3c2-e8ab40219709",
   "metadata": {},
   "source": [
    "Exercise 11:\n",
    "Write a PyTorch code to perform a matrix transpose operation on a tensor."
   ]
  },
  {
   "cell_type": "code",
   "execution_count": 26,
   "id": "f7f95305-f662-4696-9701-5150a79fb074",
   "metadata": {},
   "outputs": [
    {
     "name": "stdout",
     "output_type": "stream",
     "text": [
      "tensor([[1, 4],\n",
      "        [2, 5],\n",
      "        [3, 6]])\n"
     ]
    }
   ],
   "source": [
    "tensor_example = torch.tensor([[1, 2, 3], [4, 5, 6]])\n",
    "\n",
    "transposed_tensor = torch.transpose(tensor_example, 0, 1)\n",
    "print(transposed_tensor)"
   ]
  },
  {
   "cell_type": "markdown",
   "id": "aba9c7e6-954a-4afb-8892-9cc876e1a31c",
   "metadata": {},
   "source": [
    "Exercise 12:\n",
    "Implement a PyTorch code to concatenate two tensors along a specified dimension."
   ]
  },
  {
   "cell_type": "code",
   "execution_count": 20,
   "id": "f48b0b0b-c2a8-4b03-a5a3-cf30bb8d70d4",
   "metadata": {},
   "outputs": [
    {
     "name": "stdout",
     "output_type": "stream",
     "text": [
      "Concatenado a lo largo de la dimensión 0:\n",
      " tensor([[ 1,  2,  3],\n",
      "        [ 4,  5,  6],\n",
      "        [ 7,  8,  9],\n",
      "        [10, 11, 12]])\n",
      "Concatenado a lo largo de la dimensión 1:\n",
      " tensor([[ 1,  2,  3,  7,  8,  9],\n",
      "        [ 4,  5,  6, 10, 11, 12]])\n"
     ]
    }
   ],
   "source": [
    "tensor_a = torch.tensor([[1, 2, 3], [4, 5, 6]])\n",
    "tensor_b = torch.tensor([[7, 8, 9], [10, 11, 12]])\n",
    "\n",
    "concatenated_tensor_dim0 = torch.cat((tensor_a, tensor_b), dim=0)\n",
    "print(\"Concatenado a lo largo de la dimensión 0:\\n\", concatenated_tensor_dim0)\n",
    "\n",
    "concatenated_tensor_dim1 = torch.cat((tensor_a, tensor_b), dim=1)\n",
    "print(\"Concatenado a lo largo de la dimensión 1:\\n\", concatenated_tensor_dim1)"
   ]
  },
  {
   "cell_type": "markdown",
   "id": "d5cb17dc-1092-475d-b1a8-e788125d8cae",
   "metadata": {},
   "source": [
    "Exercise 13:\n",
    "Create a PyTorch tensor and then convert it to a CUDA tensor if CUDA is available."
   ]
  },
  {
   "cell_type": "code",
   "execution_count": 29,
   "id": "3a3807e8-12a1-46db-aab5-99e22cf6ddef",
   "metadata": {},
   "outputs": [
    {
     "name": "stdout",
     "output_type": "stream",
     "text": [
      "Tensor convertido a CUDA:\n",
      "tensor([1, 2, 3, 4, 5], device='cuda:0')\n"
     ]
    }
   ],
   "source": [
    "tensor_example = torch.tensor([1, 2, 3, 4, 5])\n",
    "\n",
    "if torch.cuda.is_available():\n",
    "    tensor_cuda = tensor_example.to('cuda')\n",
    "    print(\"Tensor convertido a CUDA:\")\n",
    "    print(tensor_cuda)\n",
    "else:\n",
    "    print(\"CUDA no está disponible. Tensor:\")\n",
    "    print(tensor_example)"
   ]
  },
  {
   "cell_type": "markdown",
   "id": "5f18a6ee-691d-480b-ae73-d4e1fa118add",
   "metadata": {},
   "source": [
    "Exercise 14:\n",
    "Write a PyTorch code to find the indices of non-zero elements in a tensor."
   ]
  },
  {
   "cell_type": "code",
   "execution_count": 28,
   "id": "8f871386-d552-4265-a4ea-7c1d1b290419",
   "metadata": {},
   "outputs": [
    {
     "name": "stdout",
     "output_type": "stream",
     "text": [
      "(tensor([1, 2, 4, 6]),)\n"
     ]
    }
   ],
   "source": [
    "tensor_example = torch.tensor([0, 1, 2, 0, 3, 0, 4])\n",
    "\n",
    "non_zero_indices = torch.nonzero(tensor_example, as_tuple=True)\n",
    "print(non_zero_indices)"
   ]
  },
  {
   "cell_type": "markdown",
   "id": "57417899-4ff0-466f-9b33-6a2a11161e02",
   "metadata": {},
   "source": [
    "Exercise 15:\n",
    "Implement a PyTorch code to perform element-wise exponentiation on a tensor."
   ]
  },
  {
   "cell_type": "code",
   "execution_count": 31,
   "id": "83f86596-0065-4aea-b1a6-e0cbfeaca84d",
   "metadata": {},
   "outputs": [
    {
     "name": "stdout",
     "output_type": "stream",
     "text": [
      "tensor([  2.7183,   7.3891,  20.0855,  54.5981, 148.4132])\n"
     ]
    }
   ],
   "source": [
    "tensor_example = torch.tensor([1.0, 2.0, 3.0, 4.0, 5.0])\n",
    "exponentiated_tensor = torch.exp(tensor_example)\n",
    "print(exponentiated_tensor)"
   ]
  },
  {
   "cell_type": "markdown",
   "id": "535fa4bd-67fe-4fd8-aa8d-e854f2590558",
   "metadata": {},
   "source": [
    "Exercise 16:\n",
    "Create a PyTorch tensor and then reshape it into a tensor of different dimensions."
   ]
  },
  {
   "cell_type": "code",
   "execution_count": 32,
   "id": "6d1983e2-cbea-4b21-8e4f-267b66fe5078",
   "metadata": {},
   "outputs": [
    {
     "name": "stdout",
     "output_type": "stream",
     "text": [
      "tensor([[ 1,  2,  3,  4],\n",
      "        [ 5,  6,  7,  8],\n",
      "        [ 9, 10, 11, 12]])\n"
     ]
    }
   ],
   "source": [
    "tensor_example = torch.tensor([1, 2, 3, 4, 5, 6, 7, 8, 9, 10, 11, 12])\n",
    "\n",
    "reshaped_tensor = tensor_example.reshape(3, 4)\n",
    "print(reshaped_tensor)"
   ]
  },
  {
   "cell_type": "markdown",
   "id": "4e7b7502-e668-4567-a8b3-5f6bc840beb2",
   "metadata": {},
   "source": [
    "Exercise 17:\n",
    "Write a PyTorch code to compute the cosine similarity between two tensors."
   ]
  },
  {
   "cell_type": "code",
   "execution_count": 36,
   "id": "c6f1431d-137f-4e55-a48e-7b863f96c080",
   "metadata": {},
   "outputs": [
    {
     "name": "stdout",
     "output_type": "stream",
     "text": [
      "tensor([0.9746])\n"
     ]
    }
   ],
   "source": [
    "import torch.nn.functional as F\n",
    "\n",
    "tensor_a = torch.tensor([1.0, 2.0, 3.0])\n",
    "tensor_b = torch.tensor([4.0, 5.0, 6.0])\n",
    "\n",
    "cosine_similarity = F.cosine_similarity(tensor_a.unsqueeze(0), tensor_b.unsqueeze(0))\n",
    "print(cosine_similarity)"
   ]
  },
  {
   "cell_type": "markdown",
   "id": "d13b01c7-00b0-4e05-a233-3e1177a88f86",
   "metadata": {},
   "source": [
    "Exercise 18: Implement a PyTorch code to perform element-wise logarithm on a tensor."
   ]
  },
  {
   "cell_type": "code",
   "execution_count": 38,
   "id": "5bdd84ff-5d2f-4110-bc40-96d3781b9cae",
   "metadata": {},
   "outputs": [
    {
     "name": "stdout",
     "output_type": "stream",
     "text": [
      "tensor([0.0000, 0.6931, 1.0986, 1.3863, 1.6094])\n"
     ]
    }
   ],
   "source": [
    "tensor_example = torch.tensor([1.0, 2.0, 3.0, 4.0, 5.0])\n",
    "\n",
    "logarithm_tensor = torch.log(tensor_example)\n",
    "print(logarithm_tensor)"
   ]
  },
  {
   "cell_type": "markdown",
   "id": "f12264f6-d86c-42ca-ab15-6ae5162321e3",
   "metadata": {},
   "source": [
    "Exercise 19:\n",
    "Create a PyTorch tensor and then calculate its standard deviation."
   ]
  },
  {
   "cell_type": "code",
   "execution_count": 39,
   "id": "b6b766f2-9298-4d1c-83e1-d1f5240a2d8c",
   "metadata": {},
   "outputs": [
    {
     "name": "stdout",
     "output_type": "stream",
     "text": [
      "tensor(1.5811)\n"
     ]
    }
   ],
   "source": [
    "tensor_example = torch.tensor([1.0, 2.0, 3.0, 4.0, 5.0])\n",
    "\n",
    "std_deviation = torch.std(tensor_example)\n",
    "print(std_deviation)"
   ]
  },
  {
   "cell_type": "markdown",
   "id": "da281285-f8ba-4020-ba33-dfeb3524f29c",
   "metadata": {},
   "source": [
    "Exercice 20: Write a PyTorch code to compute the Frobenius norm of a tensor."
   ]
  },
  {
   "cell_type": "code",
   "execution_count": 40,
   "id": "8bd27eee-8270-43d0-a785-9acdbd6424d1",
   "metadata": {},
   "outputs": [
    {
     "name": "stdout",
     "output_type": "stream",
     "text": [
      "tensor(5.4772)\n"
     ]
    }
   ],
   "source": [
    "tensor_example = torch.tensor([[1.0, 2.0], [3.0, 4.0]])\n",
    "\n",
    "frobenius_norm = torch.norm(tensor_example, p='fro')\n",
    "print(frobenius_norm)"
   ]
  },
  {
   "cell_type": "code",
   "execution_count": null,
   "id": "21a95129-4b00-4790-acbf-bd8b1323d5c8",
   "metadata": {},
   "outputs": [],
   "source": []
  }
 ],
 "metadata": {
  "kernelspec": {
   "display_name": "Python 3 (ipykernel)",
   "language": "python",
   "name": "python3"
  },
  "language_info": {
   "codemirror_mode": {
    "name": "ipython",
    "version": 3
   },
   "file_extension": ".py",
   "mimetype": "text/x-python",
   "name": "python",
   "nbconvert_exporter": "python",
   "pygments_lexer": "ipython3",
   "version": "3.9.19"
  }
 },
 "nbformat": 4,
 "nbformat_minor": 5
}
